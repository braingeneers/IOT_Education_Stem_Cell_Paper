{
 "cells": [
  {
   "cell_type": "markdown",
   "metadata": {},
   "source": [
    "<font size=7> Test Statistics"
   ]
  },
  {
   "cell_type": "markdown",
   "metadata": {},
   "source": [
    "# <font color=\"peru\">Summary"
   ]
  },
  {
   "cell_type": "markdown",
   "metadata": {},
   "source": [
    "This notebook implements T-tests on the data collected from students who took one of the two classes.  This is for an education paper being submitted to eNeuro. The reviewers asked us to perform some statistical analysis on our survey data. An example of a survey question from the Math of Mind class is shown below. \n",
    "\n"
   ]
  },
  {
   "cell_type": "markdown",
   "metadata": {},
   "source": [
    "<div><img src=\"example_student_response.png\" width=\"500\"/></div>"
   ]
  },
  {
   "cell_type": "markdown",
   "metadata": {},
   "source": [
    "We are implementing a 1-sample T-Test"
   ]
  },
  {
   "cell_type": "markdown",
   "metadata": {},
   "source": [
    "The question we are attempting to answer is, \"In which survey questions are student responses statistically different from neutral?\" To get analyzable distributions, we label student responses, \"Strongly Disagree\" to \"Strongly Agree,\" from -2 to 2. We then do a T-test to show significance. For the T-test, we must compare the mean and standard deviation of the survey data to a \"null\" distribution. I will define the null to have mean 0, and a standard deviation that's the same as the corresponding survey data. This approach is somewhat hand-wavy. For this paper it's probably sufficient though."
   ]
  },
  {
   "cell_type": "markdown",
   "metadata": {},
   "source": [
    "**References**\n",
    "* [T-Test wiki](https://en.wikipedia.org/wiki/Student%27s_t-test)\n",
    "* [1 sample T-test description](https://www.jmp.com/en_us/statistics-knowledge-portal/t-test/one-sample-t-test.html)\n",
    "* [Wilcox wiki](https://en.wikipedia.org/wiki/Wilcoxon_signed-rank_test)\n",
    "* [Wilcox Video Tutorial](https://www.youtube.com/watch?v=PGiXtngX3YQ)"
   ]
  },
  {
   "cell_type": "markdown",
   "metadata": {},
   "source": [
    "# <font color=\"blue\">Statistics Function"
   ]
  },
  {
   "cell_type": "markdown",
   "metadata": {},
   "source": [
    "import packages for analysis"
   ]
  },
  {
   "cell_type": "code",
   "execution_count": 2,
   "metadata": {},
   "outputs": [],
   "source": [
    "# import packages for analysis\n",
    "from scipy import stats\n",
    "import numpy as np\n",
    "from matplotlib import pyplot as plt"
   ]
  },
  {
   "cell_type": "markdown",
   "metadata": {},
   "source": [
    "Create function for running statistics on datasets"
   ]
  },
  {
   "cell_type": "code",
   "execution_count": 3,
   "metadata": {},
   "outputs": [],
   "source": [
    "# wrtie a function that does a T-test\n",
    "def get_statistics(data, questions):\n",
    "    for i in range(len(questions)):\n",
    "\n",
    "        # format the data from a questions so that we can run statistics on it\n",
    "        survey_range = np.array([-2,-1,0,1,2])   #. create an array of numbers from -2 to 2, representing the survey responses\n",
    "        if len(data[i]) == 4:                    # Some surveys only have 4 possibilities, so we need to remove 0 from the range\n",
    "            survey_range = np.array([-2,-1,1,2])\n",
    "        data_i = np.repeat(survey_range, data[i])   # create data for stats by repeating the numbers in survery_range by the corresponding results\n",
    "\n",
    "        # print results from statistics\n",
    "        print(questions[i])\n",
    "        print(\"Mean, Median, Mode : \", f\"[{np.mean(data_i):0.3f}, {np.median(data_i):0.3f}, {stats.mode(data_i)[0]:0.3f} ]\")\n",
    "        print(\"SD, Var, SE : \", f\"[ {np.std(data_i):0.3f}, {np.var(data_i):0.3f}, {np.std(data_i)/np.sqrt(len(data_i)):0.3f}  \" )\n",
    "        print(\"Range, Skew, Kurtosis : \", f\"[ {np.max(data_i) - np.min(data_i):0.3f}, {stats.skew(data_i):0.3f}, {stats.kurtosis(data_i):0.3f} ]\")\n",
    "        print(\"T-Test: \", stats.ttest_1samp(data_i, 0))\n",
    "        print(\"Wilcox: \", stats.wilcoxon( data[i], zero_method='wilcox', correction=False))\n",
    "        print(\"\")\n"
   ]
  },
  {
   "cell_type": "markdown",
   "metadata": {},
   "source": [
    "function to summarize statisical results across surveys"
   ]
  },
  {
   "cell_type": "code",
   "execution_count": 4,
   "metadata": {},
   "outputs": [],
   "source": [
    "def get_summary(data, questions):\n",
    "    sig_t_test = 0 \n",
    "    sig_wilcox = 0\n",
    "    non_sig_questions = []\n",
    "    \n",
    "    for i in range(len(questions)):\n",
    "        # format the data from a questions so that we can run statistics on it\n",
    "        survey_range = np.array([-2,-1,0,1,2])   #. create an array of numbers from -2 to 2, representing the survey responses\n",
    "        if len(data[i]) == 4:                    # Some surveys only have 4 possibilities, so we need to remove 0 from the range\n",
    "            survey_range = np.array([-2,-1,1,2])\n",
    "        data_i = np.repeat(survey_range, data[i])   # create data for stats by repeating the numbers in survery_range by the corresponding results\n",
    "\n",
    "        # Find out how many questions are significant via t-test and wilcox, and which ones are not\n",
    "        if stats.ttest_1samp(data_i, 0)[1]< 0.05:\n",
    "            sig_t_test += 1\n",
    "        else:\n",
    "            non_sig_questions.append(questions[i])\n",
    "        if stats.wilcoxon( data[i], zero_method='wilcox', correction=False)[1] < 0.10:\n",
    "            sig_wilcox += 1\n",
    "        \n",
    "    # print results from statistics\n",
    "    print(\"T-Test: % Significant (p-val=0.05) ---\", sig_t_test/len(questions) ) \n",
    "    print(\"Wilcox: % Significant (p-val=0.10) ---\", sig_wilcox/len(questions) )\n",
    "    print(\"Non-Significant Questions (T-Test): \", non_sig_questions)\n",
    "    print(\"\")"
   ]
  },
  {
   "cell_type": "markdown",
   "metadata": {},
   "source": [
    "# <font color=\"orchid\">  Run Statistics"
   ]
  },
  {
   "cell_type": "markdown",
   "metadata": {},
   "source": [
    "Here we run our statistics on the survey data for each figure."
   ]
  },
  {
   "cell_type": "code",
   "execution_count": 11,
   "metadata": {},
   "outputs": [
    {
     "name": "stdout",
     "output_type": "stream",
     "text": [
      "Total number of survey qeustions asked: 49\n",
      "All Data, T-Test: % Significant (p-val=0.05) ---  0.9199918367346939\n"
     ]
    }
   ],
   "source": [
    "print(\"Total number of survey qeustions asked:\", 11+16+6+16)\n",
    "print(\"All Data, T-Test: % Significant (p-val=0.05) --- \", (11+16*.88+6*0.6666+16)/(11+16+6+16))"
   ]
  },
  {
   "cell_type": "markdown",
   "metadata": {},
   "source": [
    "## <font color=\"orchid\"> Figure 2 Data"
   ]
  },
  {
   "cell_type": "code",
   "execution_count": 4,
   "metadata": {},
   "outputs": [],
   "source": [
    "questions_fig2 = [\"I enjoyed learning about organoids\", \"Performing a remote microscopy experiment was interesting\",\n",
    "                      \"The experiment selected helped solidify concepts discussed in class\", \"I felt that performing remote microscopy allowed me to use novel and complex experimental models\",\n",
    "                      \"Performing remote experiments allowed me to multitask more than in person labs\", \"I enjoyed performing these experiments\", \n",
    "                      \"Data analysis was straightforward\", \"Performing this experiment made me want to learn more about organoids\",\n",
    "                      \"Performing this experiment made me want to lear more about stem cells\", \"I would recommend this experiment to my peers\",\n",
    "                      \"I would recommend this course to my peers\"]\n",
    "\n",
    "survey_results_fig2 = np.array([ [5,5,0,0,0], [4,4,1,0,0], [5,3,2,0,0], [5,3,1,0,0], [5,0,4,1,0], [5,2,3,0,0], [4,6,0,0,0], [6,2,2,0,0], [4,6,0,0,0], [7,2,1,0,0], [9,1,0,0,0] ])"
   ]
  },
  {
   "cell_type": "code",
   "execution_count": 5,
   "metadata": {},
   "outputs": [
    {
     "name": "stdout",
     "output_type": "stream",
     "text": [
      "T-Test: % Significant (p-val=0.05) --- 1.0\n",
      "Wilcox: % Significant (p-val=0.10) --- 0.0\n",
      "Non-Significant Questions (T-Test):  []\n",
      "\n"
     ]
    },
    {
     "name": "stderr",
     "output_type": "stream",
     "text": [
      "/srv/conda/envs/notebook/lib/python3.10/site-packages/scipy/stats/_morestats.py:4088: UserWarning: Exact p-value calculation does not work if there are zeros. Switching to normal approximation.\n",
      "  warnings.warn(\"Exact p-value calculation does not work if there are \"\n",
      "/srv/conda/envs/notebook/lib/python3.10/site-packages/scipy/stats/_morestats.py:4102: UserWarning: Sample size too small for normal approximation.\n",
      "  warnings.warn(\"Sample size too small for normal approximation.\")\n"
     ]
    }
   ],
   "source": [
    "get_summary( survey_results_fig2, questions_fig2)"
   ]
  },
  {
   "cell_type": "code",
   "execution_count": 6,
   "metadata": {},
   "outputs": [
    {
     "name": "stdout",
     "output_type": "stream",
     "text": [
      "I enjoyed learning about organoids\n",
      "Mean, Median, Mode :  [-1.500, -1.500, -2.000 ]\n",
      "SD, Var, SE :  [ 0.500, 0.250, 0.158  \n",
      "Range, Skew, Kurtosis :  [ 1.000, 0.000, -2.000 ]\n",
      "T-Test:  TtestResult(statistic=-8.999999999999998, pvalue=8.538051223166285e-06, df=9)\n",
      "Wilcox:  WilcoxonResult(statistic=0.0, pvalue=0.15729920705028502)\n",
      "\n",
      "Performing a remote microscopy experiment was interesting\n",
      "Mean, Median, Mode :  [-1.333, -1.000, -2.000 ]\n",
      "SD, Var, SE :  [ 0.667, 0.444, 0.222  \n",
      "Range, Skew, Kurtosis :  [ 2.000, 0.500, -0.750 ]\n",
      "T-Test:  TtestResult(statistic=-5.65685424949238, pvalue=0.0004776140575940057, df=8)\n",
      "Wilcox:  WilcoxonResult(statistic=0.0, pvalue=0.10247043485974937)\n",
      "\n",
      "The experiment selected helped solidify concepts discussed in class\n",
      "Mean, Median, Mode :  [-1.300, -1.500, -2.000 ]\n",
      "SD, Var, SE :  [ 0.781, 0.610, 0.247  \n",
      "Range, Skew, Kurtosis :  [ 2.000, 0.579, -1.136 ]\n",
      "T-Test:  TtestResult(statistic=-4.993438317382942, pvalue=0.000745618060127258, df=9)\n",
      "Wilcox:  WilcoxonResult(statistic=0.0, pvalue=0.10880943004054568)\n",
      "\n",
      "I felt that performing remote microscopy allowed me to use novel and complex experimental models\n",
      "Mean, Median, Mode :  [-1.444, -2.000, -2.000 ]\n",
      "SD, Var, SE :  [ 0.685, 0.469, 0.228  \n",
      "Range, Skew, Kurtosis :  [ 2.000, 0.837, -0.503 ]\n",
      "T-Test:  TtestResult(statistic=-5.9648090806346055, pvalue=0.00033635383295632106, df=8)\n",
      "Wilcox:  WilcoxonResult(statistic=0.0, pvalue=0.10880943004054568)\n",
      "\n",
      "Performing remote experiments allowed me to multitask more than in person labs\n",
      "Mean, Median, Mode :  [-0.900, -1.000, -2.000 ]\n",
      "SD, Var, SE :  [ 1.136, 1.290, 0.359  \n",
      "Range, Skew, Kurtosis :  [ 3.000, 0.213, -1.619 ]\n",
      "T-Test:  TtestResult(statistic=-2.3772174470791843, pvalue=0.041416150486262744, df=9)\n",
      "Wilcox:  WilcoxonResult(statistic=0.0, pvalue=0.10880943004054568)\n",
      "\n",
      "I enjoyed performing these experiments\n",
      "Mean, Median, Mode :  [-1.200, -1.500, -2.000 ]\n",
      "SD, Var, SE :  [ 0.872, 0.760, 0.276  \n",
      "Range, Skew, Kurtosis :  [ 2.000, 0.398, -1.568 ]\n",
      "T-Test:  TtestResult(statistic=-4.129483209670111, pvalue=0.0025614603121131676, df=9)\n",
      "Wilcox:  WilcoxonResult(statistic=0.0, pvalue=0.10880943004054568)\n",
      "\n",
      "Data analysis was straightforward\n",
      "Mean, Median, Mode :  [-1.400, -1.000, -1.000 ]\n",
      "SD, Var, SE :  [ 0.490, 0.240, 0.155  \n",
      "Range, Skew, Kurtosis :  [ 1.000, -0.408, -1.833 ]\n",
      "T-Test:  TtestResult(statistic=-8.573214099741122, pvalue=1.2681848720135205e-05, df=9)\n",
      "Wilcox:  WilcoxonResult(statistic=0.0, pvalue=0.17971249487899976)\n",
      "\n",
      "Performing this experiment made me want to learn more about organoids\n",
      "Mean, Median, Mode :  [-1.400, -2.000, -2.000 ]\n",
      "SD, Var, SE :  [ 0.800, 0.640, 0.253  \n",
      "Range, Skew, Kurtosis :  [ 2.000, 0.844, -0.922 ]\n",
      "T-Test:  TtestResult(statistic=-5.25, pvalue=0.0005276973114471651, df=9)\n",
      "Wilcox:  WilcoxonResult(statistic=0.0, pvalue=0.10247043485974937)\n",
      "\n",
      "Performing this experiment made me want to lear more about stem cells\n",
      "Mean, Median, Mode :  [-1.400, -1.000, -1.000 ]\n",
      "SD, Var, SE :  [ 0.490, 0.240, 0.155  \n",
      "Range, Skew, Kurtosis :  [ 1.000, -0.408, -1.833 ]\n",
      "T-Test:  TtestResult(statistic=-8.573214099741122, pvalue=1.2681848720135205e-05, df=9)\n",
      "Wilcox:  WilcoxonResult(statistic=0.0, pvalue=0.17971249487899976)\n",
      "\n",
      "I would recommend this experiment to my peers\n",
      "Mean, Median, Mode :  [-1.600, -2.000, -2.000 ]\n",
      "SD, Var, SE :  [ 0.663, 0.440, 0.210  \n",
      "Range, Skew, Kurtosis :  [ 2.000, 1.398, 0.612 ]\n",
      "T-Test:  TtestResult(statistic=-7.236272269866326, pvalue=4.887996242779072e-05, df=9)\n",
      "Wilcox:  WilcoxonResult(statistic=0.0, pvalue=0.10880943004054568)\n",
      "\n",
      "I would recommend this course to my peers\n",
      "Mean, Median, Mode :  [-1.900, -2.000, -2.000 ]\n",
      "SD, Var, SE :  [ 0.300, 0.090, 0.095  \n",
      "Range, Skew, Kurtosis :  [ 1.000, 2.667, 5.111 ]\n",
      "T-Test:  TtestResult(statistic=-18.999999999999996, pvalue=1.4266930554364127e-08, df=9)\n",
      "Wilcox:  WilcoxonResult(statistic=0.0, pvalue=0.17971249487899976)\n",
      "\n"
     ]
    }
   ],
   "source": [
    "get_statistics( survey_results_fig2, questions_fig2)"
   ]
  },
  {
   "cell_type": "markdown",
   "metadata": {},
   "source": [
    "## <font color=\"orchid\"> Figure 3 Data"
   ]
  },
  {
   "cell_type": "code",
   "execution_count": 6,
   "metadata": {},
   "outputs": [],
   "source": [
    "questions_fig3 = [\"What is your previous experience in Mathematics?\", \"What is your previous experience in computer programming?\",\n",
    "                  \"What is your previous experience in stem cell biology?\", \"What is your previous experience in neuroscience?\",\n",
    "                        \n",
    "                 \"I am interested in the application of mathematics in biological processes\", \"This course requires me to think at a deep level or use critical thinking\",\n",
    "                 \"This course enables me to develop my skills examining questions that matter beyond the classroom\", \"I am interested in learning about stem cells\",\n",
    "                 \"I am interested in learning about neuroscience\", \"I am interested in learning about organoids and connectoids\", \n",
    "                 \"I am comfortable using WetAi in the classroom setting\", \"I am comfortable using Jupyter notebooks in the classroom setting\",\n",
    "                 \"I am comfortable performing multielectrode array (MEA) experiments\", \"I am comfortable identifying burst signals in a multi electrode array (MA)\",\n",
    "                 \"I am interested in learning more about Internet-enabled technologies in the lab\", \"I am comfortable reading neuroscience literature, in order to develop my own hypothesis for an experiment\" \n",
    "                 ]\n",
    "\n",
    "survey_results_fig3 = [ [5,10,3,0], [7,8,3,0], [1,5,6,6], [0,1,11,6],\n",
    "    [12,5,1,0,0], [14,3,0,1,0], [11,4,3,0,0],  [8,6,4,0,0], [14,3,1,0,0], [11,5,2,0,0], [7,5,5,1,0], [11,2,4,1,0], [1,7,6,3,1], [2,10,5,1,0], [12,6,0,0,0], [5,6,5,1,1] ]"
   ]
  },
  {
   "cell_type": "code",
   "execution_count": 7,
   "metadata": {},
   "outputs": [
    {
     "name": "stdout",
     "output_type": "stream",
     "text": [
      "T-Test: % Significant (p-val=0.05) --- 0.875\n",
      "Wilcox: % Significant (p-val=0.10) --- 0.3125\n",
      "Non-Significant Questions (T-Test):  ['What is your previous experience in stem cell biology?', 'I am comfortable performing multielectrode array (MEA) experiments']\n",
      "\n"
     ]
    },
    {
     "name": "stderr",
     "output_type": "stream",
     "text": [
      "/srv/conda/envs/notebook/lib/python3.10/site-packages/scipy/stats/_morestats.py:4088: UserWarning: Exact p-value calculation does not work if there are zeros. Switching to normal approximation.\n",
      "  warnings.warn(\"Exact p-value calculation does not work if there are \"\n",
      "/srv/conda/envs/notebook/lib/python3.10/site-packages/scipy/stats/_morestats.py:4102: UserWarning: Sample size too small for normal approximation.\n",
      "  warnings.warn(\"Sample size too small for normal approximation.\")\n"
     ]
    }
   ],
   "source": [
    "get_summary( survey_results_fig3, questions_fig3)"
   ]
  },
  {
   "cell_type": "code",
   "execution_count": 9,
   "metadata": {},
   "outputs": [
    {
     "name": "stdout",
     "output_type": "stream",
     "text": [
      "What is your previous experience in Mathematics?\n",
      "Mean, Median, Mode :  [-0.944, -1.000, -1.000 ]\n",
      "SD, Var, SE :  [ 0.970, 0.941, 0.229  \n",
      "Range, Skew, Kurtosis :  [ 3.000, 0.984, 0.078 ]\n",
      "T-Test:  TtestResult(statistic=-4.01350180282898, pvalue=0.0009004769977088531, df=17)\n",
      "Wilcox:  WilcoxonResult(statistic=0.0, pvalue=0.10880943004054568)\n",
      "\n",
      "What is your previous experience in computer programming?\n",
      "Mean, Median, Mode :  [-1.056, -1.000, -1.000 ]\n",
      "SD, Var, SE :  [ 1.026, 1.052, 0.242  \n",
      "Range, Skew, Kurtosis :  [ 3.000, 1.037, -0.034 ]\n",
      "T-Test:  TtestResult(statistic=-4.242295068554326, pvalue=0.0005491669226711871, df=17)\n",
      "Wilcox:  WilcoxonResult(statistic=0.0, pvalue=0.10880943004054568)\n",
      "\n",
      "What is your previous experience in stem cell biology?\n",
      "Mean, Median, Mode :  [0.611, 1.000, 1.000 ]\n",
      "SD, Var, SE :  [ 1.339, 1.793, 0.316  \n",
      "Range, Skew, Kurtosis :  [ 4.000, -0.516, -1.227 ]\n",
      "T-Test:  TtestResult(statistic=1.8816076913913078, pvalue=0.07712677433397398, df=17)\n",
      "Wilcox:  WilcoxonResult(statistic=0.0, pvalue=0.125)\n",
      "\n",
      "What is your previous experience in neuroscience?\n",
      "Mean, Median, Mode :  [1.222, 1.000, 1.000 ]\n",
      "SD, Var, SE :  [ 0.711, 0.506, 0.168  \n",
      "Range, Skew, Kurtosis :  [ 3.000, -1.276, 2.770 ]\n",
      "T-Test:  TtestResult(statistic=7.083130078384632, pvalue=1.8366372510417029e-06, df=17)\n",
      "Wilcox:  WilcoxonResult(statistic=0.0, pvalue=0.10880943004054568)\n",
      "\n",
      "I am interested in the application of mathematics in biological processes\n",
      "Mean, Median, Mode :  [-1.611, -2.000, -2.000 ]\n",
      "SD, Var, SE :  [ 0.591, 0.349, 0.139  \n",
      "Range, Skew, Kurtosis :  [ 2.000, 1.245, 0.521 ]\n",
      "T-Test:  TtestResult(statistic=-11.248205363248188, pvalue=2.689613702948372e-09, df=17)\n",
      "Wilcox:  WilcoxonResult(statistic=0.0, pvalue=0.10880943004054568)\n",
      "\n",
      "This course requires me to think at a deep level or use critical thinking\n",
      "Mean, Median, Mode :  [-1.667, -2.000, -2.000 ]\n",
      "SD, Var, SE :  [ 0.745, 0.556, 0.176  \n",
      "Range, Skew, Kurtosis :  [ 3.000, 2.594, 6.240 ]\n",
      "T-Test:  TtestResult(statistic=-9.219544457292887, pvalue=5.025373861169821e-08, df=17)\n",
      "Wilcox:  WilcoxonResult(statistic=0.0, pvalue=0.10880943004054568)\n",
      "\n",
      "This course enables me to develop my skills examining questions that matter beyond the classroom\n",
      "Mean, Median, Mode :  [-1.444, -2.000, -2.000 ]\n",
      "SD, Var, SE :  [ 0.762, 0.580, 0.180  \n",
      "Range, Skew, Kurtosis :  [ 2.000, 0.943, -0.646 ]\n",
      "T-Test:  TtestResult(statistic=-7.818417971333336, pvalue=4.982290358612415e-07, df=17)\n",
      "Wilcox:  WilcoxonResult(statistic=0.0, pvalue=0.10880943004054568)\n",
      "\n",
      "I am interested in learning about stem cells\n",
      "Mean, Median, Mode :  [-1.222, -1.000, -2.000 ]\n",
      "SD, Var, SE :  [ 0.786, 0.617, 0.185  \n",
      "Range, Skew, Kurtosis :  [ 2.000, 0.413, -1.270 ]\n",
      "T-Test:  TtestResult(statistic=-6.414047084329831, pvalue=6.414904684216944e-06, df=17)\n",
      "Wilcox:  WilcoxonResult(statistic=0.0, pvalue=0.10880943004054568)\n",
      "\n",
      "I am interested in learning about neuroscience\n",
      "Mean, Median, Mode :  [-1.722, -2.000, -2.000 ]\n",
      "SD, Var, SE :  [ 0.558, 0.312, 0.132  \n",
      "Range, Skew, Kurtosis :  [ 2.000, 1.895, 2.544 ]\n",
      "T-Test:  TtestResult(statistic=-12.718194653626151, pvalue=4.1146502011401653e-10, df=17)\n",
      "Wilcox:  WilcoxonResult(statistic=0.0, pvalue=0.10880943004054568)\n",
      "\n",
      "I am interested in learning about organoids and connectoids\n",
      "Mean, Median, Mode :  [-1.500, -2.000, -2.000 ]\n",
      "SD, Var, SE :  [ 0.687, 0.472, 0.162  \n",
      "Range, Skew, Kurtosis :  [ 2.000, 1.027, -0.228 ]\n",
      "T-Test:  TtestResult(statistic=-9.0, pvalue=7.086184920557863e-08, df=17)\n",
      "Wilcox:  WilcoxonResult(statistic=0.0, pvalue=0.10880943004054568)\n",
      "\n",
      "I am comfortable using WetAi in the classroom setting\n",
      "Mean, Median, Mode :  [-1.000, -1.000, -2.000 ]\n",
      "SD, Var, SE :  [ 0.943, 0.889, 0.222  \n",
      "Range, Skew, Kurtosis :  [ 3.000, 0.398, -1.031 ]\n",
      "T-Test:  TtestResult(statistic=-4.373213921133975, pvalue=0.0004143383552824858, df=17)\n",
      "Wilcox:  WilcoxonResult(statistic=0.0, pvalue=0.06559969214707187)\n",
      "\n",
      "I am comfortable using Jupyter notebooks in the classroom setting\n",
      "Mean, Median, Mode :  [-1.278, -2.000, -2.000 ]\n",
      "SD, Var, SE :  [ 0.989, 0.978, 0.233  \n",
      "Range, Skew, Kurtosis :  [ 3.000, 0.922, -0.645 ]\n",
      "T-Test:  TtestResult(statistic=-5.326263716105463, pvalue=5.56931123966885e-05, df=17)\n",
      "Wilcox:  WilcoxonResult(statistic=0.0, pvalue=0.06788915486182899)\n",
      "\n",
      "I am comfortable performing multielectrode array (MEA) experiments\n",
      "Mean, Median, Mode :  [-0.222, 0.000, -1.000 ]\n",
      "SD, Var, SE :  [ 0.975, 0.951, 0.230  \n",
      "Range, Skew, Kurtosis :  [ 4.000, 0.456, -0.317 ]\n",
      "T-Test:  TtestResult(statistic=-0.9397429877987293, pvalue=0.36051135932006606, df=17)\n",
      "Wilcox:  WilcoxonResult(statistic=0.0, pvalue=0.0625)\n",
      "\n",
      "I am comfortable identifying burst signals in a multi electrode array (MA)\n",
      "Mean, Median, Mode :  [-0.722, -1.000, -1.000 ]\n",
      "SD, Var, SE :  [ 0.731, 0.534, 0.172  \n",
      "Range, Skew, Kurtosis :  [ 3.000, 0.371, 0.030 ]\n",
      "T-Test:  TtestResult(statistic=-4.075160906784538, pvalue=0.000787943045848617, df=17)\n",
      "Wilcox:  WilcoxonResult(statistic=0.0, pvalue=0.06788915486182899)\n",
      "\n",
      "I am interested in learning more about Internet-enabled technologies in the lab\n",
      "Mean, Median, Mode :  [-1.667, -2.000, -2.000 ]\n",
      "SD, Var, SE :  [ 0.471, 0.222, 0.111  \n",
      "Range, Skew, Kurtosis :  [ 1.000, 0.707, -1.500 ]\n",
      "T-Test:  TtestResult(statistic=-14.577379737113251, pvalue=4.86850467295848e-11, df=17)\n",
      "Wilcox:  WilcoxonResult(statistic=0.0, pvalue=0.17971249487899976)\n",
      "\n",
      "I am comfortable reading neuroscience literature, in order to develop my own hypothesis for an experiment\n",
      "Mean, Median, Mode :  [-0.722, -1.000, -1.000 ]\n",
      "SD, Var, SE :  [ 1.096, 1.201, 0.258  \n",
      "Range, Skew, Kurtosis :  [ 4.000, 0.701, 0.023 ]\n",
      "T-Test:  TtestResult(statistic=-2.7176467969753793, pvalue=0.01462579799935608, df=17)\n",
      "Wilcox:  WilcoxonResult(statistic=0.0, pvalue=0.0625)\n",
      "\n"
     ]
    }
   ],
   "source": [
    "get_statistics( survey_results_fig3, questions_fig3)"
   ]
  },
  {
   "cell_type": "markdown",
   "metadata": {},
   "source": [
    "## <font color=\"orchid\"> Figure 4 Data"
   ]
  },
  {
   "cell_type": "code",
   "execution_count": 4,
   "metadata": {},
   "outputs": [],
   "source": [
    "questions_fig4 = [\"I think I am capable and skillful at Mathematics\", \"Being a good mathematics student makes me feel that my classmates and teachers think more of me\",\n",
    "                  \"My performance in mathematics largely depends on the methodology and empathy of the teachers\", \"In mathematics exams, I feel unsure, desperate and nervous\",\n",
    "                  \"Mathematics is useful and necessary in all areas of life\", \"Mathematics is useful and necessary for a career in Biology\" ]\n",
    "survey_results_fig4 = np.array([ [1,10,5,2,0], [1,7,7,2,0], [2,6,3,5,2], [4,5,3,2,3], [11,4,0,3,0], [7,9,1,1,0]  ])"
   ]
  },
  {
   "cell_type": "code",
   "execution_count": 5,
   "metadata": {},
   "outputs": [
    {
     "name": "stdout",
     "output_type": "stream",
     "text": [
      "T-Test: % Significant (p-val=0.05) --- 0.6666666666666666\n",
      "Wilcox: % Significant (p-val=0.10) --- 0.8333333333333334\n",
      "Non-Significant Questions (T-Test):  ['My performance in mathematics largely depends on the methodology and empathy of the teachers', 'In mathematics exams, I feel unsure, desperate and nervous']\n",
      "\n"
     ]
    },
    {
     "name": "stderr",
     "output_type": "stream",
     "text": [
      "/srv/conda/envs/notebook/lib/python3.10/site-packages/scipy/stats/_morestats.py:4088: UserWarning: Exact p-value calculation does not work if there are zeros. Switching to normal approximation.\n",
      "  warnings.warn(\"Exact p-value calculation does not work if there are \"\n",
      "/srv/conda/envs/notebook/lib/python3.10/site-packages/scipy/stats/_morestats.py:4102: UserWarning: Sample size too small for normal approximation.\n",
      "  warnings.warn(\"Sample size too small for normal approximation.\")\n"
     ]
    }
   ],
   "source": [
    "get_summary( survey_results_fig4, questions_fig4)"
   ]
  },
  {
   "cell_type": "code",
   "execution_count": 6,
   "metadata": {},
   "outputs": [
    {
     "name": "stdout",
     "output_type": "stream",
     "text": [
      "I think I am capable and skillful at Mathematics\n",
      "Mean, Median, Mode :  [-0.556, -1.000, -1.000 ]\n",
      "SD, Var, SE :  [ 0.762, 0.580, 0.180  \n",
      "Range, Skew, Kurtosis :  [ 3.000, 0.565, -0.206 ]\n",
      "T-Test:  TtestResult(statistic=-3.0070838351282063, pvalue=0.007933939339956862, df=17)\n",
      "Wilcox:  WilcoxonResult(statistic=0.0, pvalue=0.06788915486182899)\n",
      "\n",
      "Being a good mathematics student makes me feel that my classmates and teachers think more of me\n",
      "Mean, Median, Mode :  [-0.412, 0.000, -1.000 ]\n",
      "SD, Var, SE :  [ 0.771, 0.595, 0.187  \n",
      "Range, Skew, Kurtosis :  [ 3.000, 0.088, -0.451 ]\n",
      "T-Test:  TtestResult(statistic=-2.1349799846564648, pvalue=0.04857488920688251, df=16)\n",
      "Wilcox:  WilcoxonResult(statistic=0.0, pvalue=0.06559969214707187)\n",
      "\n",
      "My performance in mathematics largely depends on the methodology and empathy of the teachers\n",
      "Mean, Median, Mode :  [-0.056, 0.000, -1.000 ]\n",
      "SD, Var, SE :  [ 1.223, 1.497, 0.288  \n",
      "Range, Skew, Kurtosis :  [ 4.000, 0.106, -1.134 ]\n",
      "T-Test:  TtestResult(statistic=-0.18722058217982493, pvalue=0.8537039612497422, df=17)\n",
      "Wilcox:  WilcoxonResult(statistic=0.0, pvalue=0.0625)\n",
      "\n",
      "In mathematics exams, I feel unsure, desperate and nervous\n",
      "Mean, Median, Mode :  [-0.294, -1.000, -1.000 ]\n",
      "SD, Var, SE :  [ 1.404, 1.972, 0.341  \n",
      "Range, Skew, Kurtosis :  [ 4.000, 0.404, -1.127 ]\n",
      "T-Test:  TtestResult(statistic=-0.8377078165833911, pvalue=0.41453371794047367, df=16)\n",
      "Wilcox:  WilcoxonResult(statistic=0.0, pvalue=0.0625)\n",
      "\n",
      "Mathematics is useful and necessary in all areas of life\n",
      "Mean, Median, Mode :  [-1.278, -2.000, -2.000 ]\n",
      "SD, Var, SE :  [ 1.096, 1.201, 0.258  \n",
      "Range, Skew, Kurtosis :  [ 3.000, 1.326, 0.229 ]\n",
      "T-Test:  TtestResult(statistic=-4.808144333110286, pvalue=0.00016401431241510776, df=17)\n",
      "Wilcox:  WilcoxonResult(statistic=0.0, pvalue=0.10880943004054568)\n",
      "\n",
      "Mathematics is useful and necessary for a career in Biology\n",
      "Mean, Median, Mode :  [-1.222, -1.000, -1.000 ]\n",
      "SD, Var, SE :  [ 0.786, 0.617, 0.185  \n",
      "Range, Skew, Kurtosis :  [ 3.000, 1.100, 1.258 ]\n",
      "T-Test:  TtestResult(statistic=-6.414047084329831, pvalue=6.414904684216944e-06, df=17)\n",
      "Wilcox:  WilcoxonResult(statistic=0.0, pvalue=0.06559969214707187)\n",
      "\n"
     ]
    }
   ],
   "source": [
    "get_statistics( survey_results_fig4, questions_fig4)"
   ]
  },
  {
   "cell_type": "markdown",
   "metadata": {},
   "source": [
    "## <font color=\"orchid\"> Figure 6 Data"
   ]
  },
  {
   "cell_type": "code",
   "execution_count": 7,
   "metadata": {},
   "outputs": [],
   "source": [
    "questions_fig6 = [  \"I enjoyed learning about organoids\", \"I enjoyed performing these experiments\", \n",
    "                        \"Performing a remote electrophysiology experiment was interesting\", \"The experiment selected helped solidify concepts discussed in class\",\n",
    "                        \"I felt that performing remote electrophysiology allowed me to use novel and complex experimental models\", \"Performing remote experiments allowed me to multitask more than in person labs\",\n",
    "                        \"Performing remote experiments allowed me to do projects that require complex training\", \"Performing remote experiments allowed me to study new areas beyond my academic program\",\n",
    "                        \"Performing remote experiments allowed me to do projects that are not available for most students around the world\", \"After this course, I feel more comfortable reading and discussing mathematics literature\",\n",
    "                        \n",
    "                        \"Performing this experiment made me want to learn more about organoids\", \"Performing this experiment made me want to learn more about stem cells\",\n",
    "                        \"I would consider applying for a job working with stem cell and neuroscience data\", \"I would consider further education in stem cell and neuroscience data\",\n",
    "                        \"After this course, I feel more comfortable reading and discussing stem cell literature\", \"After this course, I feel more comfortable reading and discussing neuroscience literature\" ]\n",
    "\n",
    "survey_results_fig6 = np.array([ [16,7,1,0,0], [13,9,2,0,0], [14,8,2,0,0], [12,11,0,1,0], [16,4,4,0,0], [10,5,6,1,1], [11,10,3,0,0], [16,6,2,0,0], [20,3,0,0,0], [6,10,7,1,0],  \n",
    "                                 [15,6,2,1,0], [15,5,3,1,0], [12,7,2,3,0], [10,11,2,1,0], [10,9,5,0,0], [11,11,2,0,0] ])\n",
    "\n"
   ]
  },
  {
   "cell_type": "code",
   "execution_count": 8,
   "metadata": {},
   "outputs": [
    {
     "name": "stdout",
     "output_type": "stream",
     "text": [
      "T-Test: % Significant (p-val=0.05) --- 1.0\n",
      "Wilcox: % Significant (p-val=0.10) --- 0.375\n",
      "Non-Significant Questions (T-Test):  []\n",
      "\n"
     ]
    }
   ],
   "source": [
    "get_summary( survey_results_fig6, questions_fig6)"
   ]
  },
  {
   "cell_type": "code",
   "execution_count": 5,
   "metadata": {},
   "outputs": [
    {
     "name": "stdout",
     "output_type": "stream",
     "text": [
      "I enjoyed learning about organoids\n",
      "Mean, Median, Mode :  [-1.625, -2.000, -2.000 ]\n",
      "SD, Var, SE :  [ 0.564, 0.318, 0.115  \n",
      "Range, Skew, Kurtosis :  [ 2.000, 1.200, 0.450 ]\n",
      "T-Test:  TtestResult(statistic=-13.826204628394212, pvalue=1.2452221358497965e-12, df=23)\n",
      "Wilcox:  WilcoxonResult(statistic=0.0, pvalue=0.10880943004054568)\n",
      "\n",
      "I enjoyed performing these experiments\n",
      "Mean, Median, Mode :  [-1.458, -2.000, -2.000 ]\n",
      "SD, Var, SE :  [ 0.644, 0.415, 0.131  \n",
      "Range, Skew, Kurtosis :  [ 2.000, 0.780, -0.444 ]\n",
      "T-Test:  TtestResult(statistic=-10.857579347566515, pvalue=1.5833688686517335e-10, df=23)\n",
      "Wilcox:  WilcoxonResult(statistic=0.0, pvalue=0.10880943004054568)\n",
      "\n",
      "Performing a remote electrophysiology experiment was interesting\n",
      "Mean, Median, Mode :  [-1.500, -2.000, -2.000 ]\n",
      "SD, Var, SE :  [ 0.645, 0.417, 0.132  \n",
      "Range, Skew, Kurtosis :  [ 2.000, 0.930, -0.240 ]\n",
      "T-Test:  TtestResult(statistic=-11.144505372604026, pvalue=9.528315069947521e-11, df=23)\n",
      "Wilcox:  WilcoxonResult(statistic=0.0, pvalue=0.10880943004054568)\n",
      "\n",
      "The experiment selected helped solidify concepts discussed in class\n",
      "Mean, Median, Mode :  [-1.417, -1.500, -2.000 ]\n",
      "SD, Var, SE :  [ 0.702, 0.493, 0.143  \n",
      "Range, Skew, Kurtosis :  [ 3.000, 1.508, 3.141 ]\n",
      "T-Test:  TtestResult(statistic=-9.675728309014218, pvalue=1.418651156250854e-09, df=23)\n",
      "Wilcox:  WilcoxonResult(statistic=0.0, pvalue=0.10880943004054568)\n",
      "\n",
      "I felt that performing remote electrophysiology allowed me to use novel and complex experimental models\n",
      "Mean, Median, Mode :  [-1.500, -2.000, -2.000 ]\n",
      "SD, Var, SE :  [ 0.764, 0.583, 0.156  \n",
      "Range, Skew, Kurtosis :  [ 2.000, 1.122, -0.367 ]\n",
      "T-Test:  TtestResult(statistic=-9.418826132501104, pvalue=2.3368603309179618e-09, df=23)\n",
      "Wilcox:  WilcoxonResult(statistic=0.0, pvalue=0.10247043485974937)\n",
      "\n",
      "Performing remote experiments allowed me to multitask more than in person labs\n",
      "Mean, Median, Mode :  [-0.957, -1.000, -2.000 ]\n",
      "SD, Var, SE :  [ 1.122, 1.259, 0.234  \n",
      "Range, Skew, Kurtosis :  [ 4.000, 0.838, -0.039 ]\n",
      "T-Test:  TtestResult(statistic=-3.9984982165793186, pvalue=0.0006053557957048348, df=22)\n",
      "Wilcox:  WilcoxonResult(statistic=0.0, pvalue=0.0625)\n",
      "\n",
      "Performing remote experiments allowed me to do projects that require complex training\n",
      "Mean, Median, Mode :  [-1.333, -1.000, -2.000 ]\n",
      "SD, Var, SE :  [ 0.687, 0.472, 0.140  \n",
      "Range, Skew, Kurtosis :  [ 2.000, 0.542, -0.799 ]\n",
      "T-Test:  TtestResult(statistic=-9.305279968604795, pvalue=2.9213732495816456e-09, df=23)\n",
      "Wilcox:  WilcoxonResult(statistic=0.0, pvalue=0.10880943004054568)\n",
      "\n",
      "Performing remote experiments allowed me to study new areas beyond my academic program\n",
      "Mean, Median, Mode :  [-1.583, -2.000, -2.000 ]\n",
      "SD, Var, SE :  [ 0.640, 0.410, 0.131  \n",
      "Range, Skew, Kurtosis :  [ 2.000, 1.267, 0.412 ]\n",
      "T-Test:  TtestResult(statistic=-11.862917582084185, pvalue=2.778826173484555e-11, df=23)\n",
      "Wilcox:  WilcoxonResult(statistic=0.0, pvalue=0.10880943004054568)\n",
      "\n",
      "Performing remote experiments allowed me to do projects that are not available for most students around the world\n",
      "Mean, Median, Mode :  [-1.870, -2.000, -2.000 ]\n",
      "SD, Var, SE :  [ 0.337, 0.113, 0.070  \n",
      "Range, Skew, Kurtosis :  [ 1.000, 2.195, 2.817 ]\n",
      "T-Test:  TtestResult(statistic=-26.037793045238427, pvalue=5.045949409903731e-18, df=22)\n",
      "Wilcox:  WilcoxonResult(statistic=0.0, pvalue=0.17971249487899976)\n",
      "\n",
      "After this course, I feel more comfortable reading and discussing mathematics literature\n",
      "Mean, Median, Mode :  [-0.875, -1.000, -1.000 ]\n",
      "SD, Var, SE :  [ 0.832, 0.693, 0.170  \n",
      "Range, Skew, Kurtosis :  [ 3.000, 0.196, -0.736 ]\n",
      "T-Test:  TtestResult(statistic=-5.041929455236255, pvalue=4.2040567476258466e-05, df=23)\n",
      "Wilcox:  WilcoxonResult(statistic=0.0, pvalue=0.06788915486182899)\n",
      "\n",
      "Performing this experiment made me want to learn more about organoids\n",
      "Mean, Median, Mode :  [-1.458, -2.000, -2.000 ]\n",
      "SD, Var, SE :  [ 0.815, 0.665, 0.166  \n",
      "Range, Skew, Kurtosis :  [ 3.000, 1.480, 1.441 ]\n",
      "T-Test:  TtestResult(statistic=-8.57694401686331, pvalue=1.2724602303790703e-08, df=23)\n",
      "Wilcox:  WilcoxonResult(statistic=0.0, pvalue=0.06788915486182899)\n",
      "\n",
      "Performing this experiment made me want to learn more about stem cells\n",
      "Mean, Median, Mode :  [-1.417, -2.000, -2.000 ]\n",
      "SD, Var, SE :  [ 0.862, 0.743, 0.176  \n",
      "Range, Skew, Kurtosis :  [ 3.000, 1.303, 0.628 ]\n",
      "T-Test:  TtestResult(statistic=-7.881719059133154, pvalue=5.532829635433506e-08, df=23)\n",
      "Wilcox:  WilcoxonResult(statistic=0.0, pvalue=0.06788915486182899)\n",
      "\n",
      "I would consider applying for a job working with stem cell and neuroscience data\n",
      "Mean, Median, Mode :  [-1.167, -1.500, -2.000 ]\n",
      "SD, Var, SE :  [ 1.027, 1.056, 0.210  \n",
      "Range, Skew, Kurtosis :  [ 3.000, 1.029, -0.172 ]\n",
      "T-Test:  TtestResult(statistic=-5.445906236508494, pvalue=1.5539355514785608e-05, df=23)\n",
      "Wilcox:  WilcoxonResult(statistic=0.0, pvalue=0.06788915486182899)\n",
      "\n",
      "I would consider further education in stem cell and neuroscience data\n",
      "Mean, Median, Mode :  [-1.250, -1.000, -1.000 ]\n",
      "SD, Var, SE :  [ 0.777, 0.604, 0.159  \n",
      "Range, Skew, Kurtosis :  [ 3.000, 0.998, 0.849 ]\n",
      "T-Test:  TtestResult(statistic=-7.712506636670704, pvalue=7.989914066360518e-08, df=23)\n",
      "Wilcox:  WilcoxonResult(statistic=0.0, pvalue=0.06788915486182899)\n",
      "\n",
      "After this course, I feel more comfortable reading and discussing stem cell literature\n",
      "Mean, Median, Mode :  [-1.208, -1.000, -2.000 ]\n",
      "SD, Var, SE :  [ 0.763, 0.582, 0.156  \n",
      "Range, Skew, Kurtosis :  [ 2.000, 0.370, -1.201 ]\n",
      "T-Test:  TtestResult(statistic=-7.598703738629549, pvalue=1.0252027322424473e-07, df=23)\n",
      "Wilcox:  WilcoxonResult(statistic=0.0, pvalue=0.10880943004054568)\n",
      "\n",
      "After this course, I feel more comfortable reading and discussing neuroscience literature\n",
      "Mean, Median, Mode :  [-1.375, -1.000, -2.000 ]\n",
      "SD, Var, SE :  [ 0.633, 0.401, 0.129  \n",
      "Range, Skew, Kurtosis :  [ 2.000, 0.508, -0.657 ]\n",
      "T-Test:  TtestResult(statistic=-10.412904082366813, pvalue=3.5436555625359215e-10, df=23)\n",
      "Wilcox:  WilcoxonResult(statistic=0.0, pvalue=0.10247043485974937)\n",
      "\n"
     ]
    },
    {
     "name": "stderr",
     "output_type": "stream",
     "text": [
      "/srv/conda/envs/notebook/lib/python3.10/site-packages/scipy/stats/_morestats.py:4088: UserWarning: Exact p-value calculation does not work if there are zeros. Switching to normal approximation.\n",
      "  warnings.warn(\"Exact p-value calculation does not work if there are \"\n",
      "/srv/conda/envs/notebook/lib/python3.10/site-packages/scipy/stats/_morestats.py:4102: UserWarning: Sample size too small for normal approximation.\n",
      "  warnings.warn(\"Sample size too small for normal approximation.\")\n"
     ]
    }
   ],
   "source": [
    "get_statistics( survey_results_fig6, questions_fig6)"
   ]
  },
  {
   "cell_type": "code",
   "execution_count": null,
   "metadata": {},
   "outputs": [],
   "source": []
  },
  {
   "cell_type": "code",
   "execution_count": null,
   "metadata": {},
   "outputs": [],
   "source": []
  }
 ],
 "metadata": {
  "kernelspec": {
   "display_name": "Python 3 (ipykernel)",
   "language": "python",
   "name": "python3"
  },
  "language_info": {
   "codemirror_mode": {
    "name": "ipython",
    "version": 3
   },
   "file_extension": ".py",
   "mimetype": "text/x-python",
   "name": "python",
   "nbconvert_exporter": "python",
   "pygments_lexer": "ipython3",
   "version": "3.10.0"
  }
 },
 "nbformat": 4,
 "nbformat_minor": 2
}
